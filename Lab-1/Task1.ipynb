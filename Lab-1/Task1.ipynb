{
 "cells": [
  {
   "cell_type": "code",
   "execution_count": 1,
   "metadata": {},
   "outputs": [
    {
     "name": "stdout",
     "output_type": "stream",
     "text": [
      "You/are/encourage/to/study/BDY/hard/We/believe/you/can/study/BDA/well\n"
     ]
    }
   ],
   "source": [
    "text=[\"You are encourage to study BDY hard\",\"We believe you can study BDA well\"]\n",
    "\n",
    "from tokenizer import split_into_sentences\n",
    "\n",
    "s= split_into_sentences(text)\n",
    "\n",
    "for sentence in s:\n",
    "    tokens = sentence.split()\n",
    "    print(\"/\".join(tokens))"
   ]
  },
  {
   "cell_type": "code",
   "execution_count": 1,
   "metadata": {},
   "outputs": [
    {
     "name": "stdout",
     "output_type": "stream",
     "text": [
      "OrderedDict([('you', 2), ('are', 1), ('encourage', 1), ('to', 1), ('study', 2), ('bdy', 1), ('hard', 1), ('we', 1), ('believe', 1), ('can', 1), ('bda', 1), ('well', 1)]) defaultdict(<class 'int'>, {'you': 2, 'bdy': 1, 'hard': 1, 'are': 1, 'to': 1, 'study': 2, 'encourage': 1, 'can': 1, 'we': 1, 'bda': 1, 'believe': 1, 'well': 1}) {'you': 1, 'study': 2, 'are': 3, 'encourage': 4, 'to': 5, 'bdy': 6, 'hard': 7, 'we': 8, 'believe': 9, 'can': 10, 'bda': 11, 'well': 12} 2\n",
      "[[0.         0.51082562 0.51082562 0.69314718 0.69314718 0.69314718\n",
      "  0.69314718 0.69314718 0.         0.         0.         0.\n",
      "  0.        ]\n",
      " [0.         0.51082562 0.51082562 0.         0.         0.\n",
      "  0.         0.         0.69314718 0.69314718 0.69314718 0.69314718\n",
      "  0.69314718]]\n"
     ]
    }
   ],
   "source": [
    "from keras.preprocessing.text import Tokenizer\n",
    "\n",
    "tokenizer = Tokenizer()\n",
    "\n",
    "text = [\"You are encourage to study BDY hard\",\"We believe you can study BDA well\"]\n",
    "\n",
    "tokenizer.fit_on_texts(text)\n",
    "\n",
    "print(tokenizer.word_counts,tokenizer.word_docs,tokenizer.word_index,tokenizer.document_count)\n",
    "encoded_docs = tokenizer.texts_to_matrix(text, mode='tfidf')\n",
    "\n",
    "print(encoded_docs)"
   ]
  }
 ],
 "metadata": {
  "kernelspec": {
   "display_name": "BDA",
   "language": "python",
   "name": "python3"
  },
  "language_info": {
   "codemirror_mode": {
    "name": "ipython",
    "version": 3
   },
   "file_extension": ".py",
   "mimetype": "text/x-python",
   "name": "python",
   "nbconvert_exporter": "python",
   "pygments_lexer": "ipython3",
   "version": "3.10.8"
  }
 },
 "nbformat": 4,
 "nbformat_minor": 2
}
